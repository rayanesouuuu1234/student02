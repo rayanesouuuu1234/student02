{
 "cells": [
  {
   "cell_type": "markdown",
   "metadata": {},
   "source": [
    "---\n",
    "toc: true\n",
    "comments: true\n",
    "layout: post\n",
    "title: Tri 2 Collegeboard MCQ Review\n",
    "description: CB quiz\n",
    "courses: { compsci: {week: 17} }\n",
    "type: hacks\n",
    "categories: [C1.4]\n",
    "---"
   ]
  },
  {
   "cell_type": "markdown",
   "metadata": {},
   "source": [
    "# MCQ Review\n",
    "## My Score: 61/67\n",
    "\n",
    "## Overview of Experience\n",
    "- Engaged with AP Computer Science Principles multiple-choice questions.\n",
    "- Covered a wide range of topics from basic coding to advanced computer science concepts.\n",
    "- Enhanced understanding and knowledge in the subject.\n",
    "- Strengthened computer science vocabulary through question analysis.\n",
    "\n",
    "## Factors Contributing to Improved Understanding\n",
    "- Exposure to relevant terminology in team teaching sessions.\n",
    "- Background information from team teaching enhanced comprehension of questions.\n",
    "- Improvement in scores attributed to increased familiarity with the test format.\n",
    "- Utilization of Chat-GPT for in-depth question explanations and deeper understanding.\n",
    "- Collaboration with peers for diverse perspectives and shared learning."
   ]
  },
  {
   "cell_type": "markdown",
   "metadata": {},
   "source": [
    "## Test Corrections\n",
    "\n",
    "### Q4- In a certain computer program, two positive integers are added together, resulting in an overflow error. Which of the following best explains why the error occurs?\n",
    "\n",
    "Selected answer: D\n",
    "Correct answer: C\n",
    "Explanation: While fractions are sometimes represented by decimal approximations that are subject to rounding errors, integers are not.\n",
    "\n",
    "### Q23- A flowchart is a way to visually represent an algorithm. The flowchart below is used by an application to set the Boolean variable available to true under certain conditions. The flowchart uses the Boolean variable weekday and the integer variable miles. Which of the following statements is equivalent to the algorithm in the flowchart?\n",
    "\n",
    "Selected: B\n",
    "Correct: D\n",
    "Explanation: \n",
    "\n",
    "- Option B: available ← (weekday AND miles ≥ 20) This one sets 'available' to true only when it is both a 'weekday' and 'miles' is 20 or more.\n",
    "- Option D: available ← (weekday AND miles < 20) --> It states that 'available' is true if it is a 'weekday' and 'miles' is less than 20 at the same time.\n",
    "\n",
    "\n",
    "### Q51- Which of the following best describes the impact of Creative Commons?\n",
    "\n",
    "Selected: C\n",
    "Correct: A\n",
    "Explanation: Option C is incorrect because Creative Commons does not deal with the technical aspects of message transmission like \"lossless\" or \"reliable distribution.\" Creative Commons is a nonprofit organization that provides free licenses that creators can use to indicate how others may use their digital content, which aligns with what Option A describes.\n",
    "\n",
    "### Q52 Which of the following are true statements about the simulation?\n",
    "\n",
    "I. The simulation continues until either 24 hours pass or the population reaches 0.\n",
    "II. The simulation displays the average change in population per hour over the course of the simulation.\n",
    "III. The simulation displays the total population at the end of the simulation.\n",
    "\n",
    "Selected: D\n",
    "Correct: A\n",
    "Explanation: The answer would be I because II is incorrect. Statement II is incorrect because the code provided does not calculate the average change in population per hour. It only calculates and displays the difference between the current population and the starting population at the end of the simulation. The average change per hour would require taking the displayed result and dividing it by the number of hours passed, which the code does not do.\n",
    "\n",
    "### Q62- Assume that the Boolean variable x is assigned the value true and the Boolean variable y is assigned the value false. Which of the following will display the value true ? Select two answers.\n",
    "\n",
    "Selected: A\n",
    "Correct: A and B\n",
    "Explanation: Option B is correct because it contains the conditional statement `IF (x OR y)`, which evaluates to true since `x` is `true`. The `OR` operator in boolean logic means that if either `x` or `y` is `true`, the entire expression is `true`. Therefore, the `DISPLAY x` command will execute, displaying the value of `x`, which is `true`."
   ]
  },
  {
   "cell_type": "markdown",
   "metadata": {},
   "source": [
    "## Final Thoughts\n",
    "- I found this quiz to be highly beneficial for my learning, as we don't often engage in similar activities in class.\n",
    "- This provides a valuable opportunity to prepare for the AP exam.\n",
    "- I appreciate the inclusion of team teaches, allowing me to utilize background information effectively."
   ]
  }
 ],
 "metadata": {
  "language_info": {
   "name": "python"
  },
  "orig_nbformat": 4
 },
 "nbformat": 4,
 "nbformat_minor": 2
}
