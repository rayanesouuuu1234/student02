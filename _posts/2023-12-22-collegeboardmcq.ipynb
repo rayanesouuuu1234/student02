{
 "cells": [
  {
   "cell_type": "markdown",
   "metadata": {},
   "source": [
    "---\n",
    "toc: true\n",
    "comments: true\n",
    "layout: post\n",
    "title: Tri 2 Collegeboard MCQ Review\n",
    "description: CB quiz\n",
    "courses: { compsci: {week: 17} }\n",
    "type: hacks\n",
    "categories: [C1.4]\n",
    "---"
   ]
  },
  {
   "cell_type": "markdown",
   "metadata": {},
   "source": [
    "# MCQ Review\n",
    "## My Score: 61/67\n",
    "## My Learning Journey\n",
    "\n",
    "- Overview: Working through the AP Computer Science Principles multiple-choice questions has been a beneficial learning experience. These questions, which covered a large amount of topics from the basic code to more complex computer science concepts, have been key to expanding my understanding in the subject. Each question strengthened my vocabulary and knowledge of this subject.\n",
    "\n",
    "- What Helped: I say terminology being used from team teaches which helped me be able to understand the question a bit better because of the background information from said team teaches. I assume that I got a better score on this MCQ compared to my previous one because of sheer experience. My first one was a new experience but now I am getting in the groove of taking these kinds of tests. A tool I utilized when I was stuck was Chat-GPT which aided in explaining the question more in depth and allowing for a deeper understanding. Talking to peers was also essential in my learning journey as two minds are better than one and I was also able to hear another perspective of the questions."
   ]
  },
  {
   "cell_type": "markdown",
   "metadata": {},
   "source": [
    "## Test Corrections\n",
    "\n",
    "### Q4- In a certain computer program, two positive integers are added together, resulting in an overflow error. Which of the following best explains why the error occurs?\n",
    "\n",
    "Selected answer: D\n",
    "Correct answer: C\n",
    "Explanation: While fractions are sometimes represented by decimal approximations that are subject to rounding errors, integers are not.\n",
    "\n",
    "### Q13- A library system contains information for each book that was borrowed. Each time a person borrows or returns a book from the library, the following information is recorded in a database.Name and the unique ID number of the person who was borrowing the booAuthor, title, and the unique ID number of the book that was borrowedDate that the book was borrowe Date that the book was due to be returned Date that the book was returned or 0 if the book has not been returned yet Which of the following CANNOT be determined from the information collected by the system?\n",
    "\n",
    "Selected: C\n",
    "Correct: B\n",
    "Explanation: This information can be determined by comparing the date that each book was due to be returned to the date the book was actually returned.\n",
    "\n",
    "### Q22- Consider the following spinner, which is used to determine how pieces are to be moved on a game board. The region labeled \"Move 1 space\" is six times as large as each of the other two regionsThe figure presents a game board spinner that is divided into 3 regions. The regions titled Move 2 spaces and Lose a turn are equal in size, and the region titled Move 1 space is six times larger than the other 2 regions.Which of the following code segments can be used to simulate the behavior of the spinner?\n",
    "\n",
    "Selected: C\n",
    "Correct: D\n",
    "Explanation: This code segment simulates a spinner in which there is a 6/8 chance of \"Lose a turn\", a 1/8 chance of \"Move 2 spaces\", and a 1/8 chance of \"Move 1 space\". However, the given spinner has a 6/8 chance of \"Move 1 space\", a 1/8 chance of \"Move 2 spaces\", and a 1/8 chance of \"Lose a turn\".\n",
    "\n",
    "### Q13- A flowchart is a way to visually represent an algorithm. The flowchart below is used by an application to set the Boolean variable available to true under certain conditions. The flowchart uses the Boolean variable weekday and the integer variable milesBlock\tExplanationOval\tThe start or end of the algorithmDiamond\tA conditional or decision step, where execution proceeds to the side labeled true if the condition is true and to the side labeled false otherwiseRectangle\tOne or more processing steps, such as a statement that assigns a value to a variableThe figure presents a flow chart of an algorithm. Beginning at the top of the flow chart, the algorithm begins with a step labeled Start, which flows into a conditional step labeled weekday = true. If the condition labeled weekday = true is true, the process flows into another conditional step labeled miles are less than 20. If the condition labeled weekday = true is false, the process flows into a processing step labeled available ← false. If the conditional step labeled miles are less than 20 is true, the process flows into a processing step labeled available ← true. If the conditional step labeled miles are less than 20 is false the process flows into the processing step available ← false. Both processing steps, available ← true and available ← false flow to the end of the algorithm.Which of the following statements is equivalent to the algorithm in the flowchart\n",
    "\n",
    "Selected: B\n",
    "Correct: D\n",
    "Explanation: This expression would be equivalent to an algorithm that sets available to true whenever weekday is true and miles is at least 20. The algorithm in the flowchart requires both conditions to be true in order to set available to true.\n",
    "\n",
    "### Q35- A programmer notices the following two procedures in a library. The procedures do similar, but not identical, things. Procedure MaxTwo (x, y) returns the greater of its two integer parameters. Procedure MaxThree (x, y, z) returns the greatest of its three integer parameters. Which of the following procedures is a generalization of the MaxTwo and MaxThree procedures?\n",
    "\n",
    "Selected: A\n",
    "Correct: B\n",
    "Explanation: Incorrect. The Min procedure performs similarly to the MaxTwo procedure (in that it compares two values), but it does not generalize this functionality to calculate the maximum of any number of values.\n",
    "\n",
    "### Q48- Which of the following scenarios best exemplifies a phishing attack?\n",
    "\n",
    "Selected: A\n",
    "Correct: C\n",
    "Explanation: Data sent over public networks can be intercepted and analyzed without tricking the user into providing personal information."
   ]
  },
  {
   "cell_type": "markdown",
   "metadata": {},
   "source": [
    "## Final Thoughts\n",
    "- I though that this quiz was very beneficial for my learning as we dont do much of this kind of stuff in class and this is really the only time that I am able to prepare for the AP exam. I appreciate that this is also about the team teaches as well so that I am able to use background information."
   ]
  }
 ],
 "metadata": {
  "language_info": {
   "name": "python"
  },
  "orig_nbformat": 4
 },
 "nbformat": 4,
 "nbformat_minor": 2
}
